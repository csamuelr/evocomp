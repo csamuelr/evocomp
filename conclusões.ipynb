{
 "cells": [
  {
   "cell_type": "markdown",
   "metadata": {},
   "source": [
    "# Conclusões"
   ]
  },
  {
   "cell_type": "markdown",
   "metadata": {},
   "source": [
    "Ao analisar os resultados apresentados para o **ítem (a)** podemos indentificar que, dentre os quatro algoritmos utilizados para minimizar a função de Ackley, Evolução Diferencial e Estratégia de Evolução obtiveram os melhores desempenhos, sendo que Evolução Diferencial obteve desempenho ligeiramente superior. O Algoritmo de Estimação de Distribuição GA Compacto apresentou melhor média em comparação com Estratégia de Evolução, contudo, apresentou desvio padrão muito maior. De acordo com os experimentos, o algoritmo de Estratégia de Evolução se saiu inferior em tempo de execução em comparação com Evolução Diferencial. Vale destacar também que a convergência do Algoritmo de Evolução Diferencial se mostra muito mais suave em comparação com Estratégia de Evolução. "
   ]
  },
  {
   "cell_type": "markdown",
   "metadata": {},
   "source": []
  }
 ],
 "metadata": {
  "language_info": {
   "name": "python"
  },
  "orig_nbformat": 4
 },
 "nbformat": 4,
 "nbformat_minor": 2
}
