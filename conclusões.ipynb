{
 "cells": [
  {
   "cell_type": "markdown",
   "metadata": {},
   "source": [
    "# Conclusões"
   ]
  },
  {
   "cell_type": "markdown",
   "metadata": {},
   "source": [
    "Ao analisar os resultados apresentados para o **ítem (a)** podemos indentificar que, dentre os quatro algoritmos utilizados para minimizar a função de Ackley, Evolução Diferencial e Estratégia de Evolução obtiveram os melhores desempenhos, sendo que Evolução Diferencial obteve desempenho ligeiramente superior. O Algoritmo de Estimação de Distribuição GA Compacto apresentou melhor média em comparação com Estratégia de Evolução, contudo, apresentou desvio padrão muito maior. De acordo com os experimentos, o algoritmo de Estratégia de Evolução se saiu inferior em tempo de execução em comparação com Evolução Diferencial. Vale destacar também que a convergência do Algoritmo de Evolução Diferencial se mostra muito mais suave em comparação com Estratégia de Evolução. "
   ]
  },
  {
   "cell_type": "markdown",
   "metadata": {},
   "source": [
    "De acordo com os resultados dos experimentos realizados para o **ítem (b)** podemos identificar que, dentre os quatro algoritmos utilizados para minimizar a função de Griewank, Evolução Diferencial e Estratégia de Evolução obtiveram melhor desempenho. Além disso, dentre estes, Evolução Diferencial obteve melhor tempo de execução e convergência mais suave."
   ]
  },
  {
   "cell_type": "markdown",
   "metadata": {},
   "source": [
    "Ao analisar os resultados apresentados para o **ítem (c)** podemos indentificar que, dentre os quatro algoritmos utilizados para minimizar a função Trid, Evolução Diferencial e Estratégia de Evolução obtiveram os melhores desempenhos, sendo que, desta vez, Estratégia de Evolução obteve desempenho superior. Contudo, o algoritmo de Estratégia de Evolução apresentou maior tempo de execução em comparação com Evolução Diferencial."
   ]
  },
  {
   "cell_type": "markdown",
   "metadata": {},
   "source": [
    "De acordo com os resultados dos experimentos realizados para o **ítem (d)** podemos identificar que, dentre os quatro algoritmos utilizados para minimizar a função de Colville, Evolução Diferencial e Estratégia de Evolução, mais uma vez, obtiveram melhor desempenho. Além disso, dentre estes, Evolução Diferencial obteve melhor tempo de execução e convergência mais suave."
   ]
  },
  {
   "cell_type": "markdown",
   "metadata": {},
   "source": [
    "Em conclusão, destaca-se que o algoritmo de Evolução Diferencial apresentou melhor desempenho dentre os demais, obtendo evidente superioridade em relação a menor tempo de processamento e desempenho em três dos quatro ítens."
   ]
  }
 ],
 "metadata": {
  "interpreter": {
   "hash": "c5db3673f850cd6486aeee7b82373f1703fdf148d2f110fcb6858da350f2b33d"
  },
  "kernelspec": {
   "display_name": "Python 3.8.10 64-bit ('env': venv)",
   "language": "python",
   "name": "python3"
  },
  "language_info": {
   "name": "python",
   "version": "3.8.10"
  },
  "orig_nbformat": 4
 },
 "nbformat": 4,
 "nbformat_minor": 2
}
